{
 "cells": [
  {
   "cell_type": "code",
   "execution_count": 2,
   "metadata": {},
   "outputs": [],
   "source": [
    "import pandas as pd\n",
    "import os"
   ]
  },
  {
   "cell_type": "code",
   "execution_count": 5,
   "metadata": {},
   "outputs": [],
   "source": [
    "def read_csv_files(folder_path):\n",
    "    # Get the list of files in the folder\n",
    "    files= os.listdir(folder_path)\n",
    "\n",
    "    # Filter for csv files\n",
    "    csv_files= [file for file in files if file.endswith('.csv')]\n",
    "\n",
    "    # Create empty dict to hold future DataFrames\n",
    "    dataframes={}\n",
    "\n",
    "    # Loop through each csv and read into DataFrame\n",
    "    for csv_file in csv_files:\n",
    "        path= os.path.join(folder_path, csv_file)\n",
    "        df_name= os.path.splitext(csv_file)[0] # Use filename for df\n",
    "        dataframes[df_name]= pd.read_csv(path)\n",
    "    \n",
    "    return dataframes\n",
    "\n",
    "folder_path='resources'\n",
    "result=read_csv_files(folder_path)\n"
   ]
  },
  {
   "cell_type": "code",
   "execution_count": 7,
   "metadata": {},
   "outputs": [],
   "source": [
    "for key in list(result.keys()):\n",
    "    new_key=key +'_df'\n",
    "    result[new_key]=result.pop(key)\n",
    "\n",
    "# Now each key in the dictionary will be file_df"
   ]
  },
  {
   "cell_type": "code",
   "execution_count": 10,
   "metadata": {},
   "outputs": [],
   "source": [
    "for key in result.keys():\n",
    "    globals()[key]=result[key]\n",
    "\n",
    "# This iterates through the results and allows \n",
    "# us to call without using result['df']\n"
   ]
  },
  {
   "cell_type": "code",
   "execution_count": 22,
   "metadata": {},
   "outputs": [
    {
     "data": {
      "text/plain": [
       "album_id     0\n",
       "title        0\n",
       "artist_id    0\n",
       "dtype: int64"
      ]
     },
     "execution_count": 22,
     "metadata": {},
     "output_type": "execute_result"
    }
   ],
   "source": [
    "album_df.isnull().sum()"
   ]
  },
  {
   "cell_type": "code",
   "execution_count": 23,
   "metadata": {},
   "outputs": [
    {
     "data": {
      "text/plain": [
       "album_id     0\n",
       "title        0\n",
       "artist_id    0\n",
       "dtype: int64"
      ]
     },
     "execution_count": 23,
     "metadata": {},
     "output_type": "execute_result"
    }
   ],
   "source": [
    "album2_df.isnull().sum()"
   ]
  },
  {
   "cell_type": "code",
   "execution_count": 24,
   "metadata": {},
   "outputs": [
    {
     "data": {
      "text/plain": [
       "artist_id    0\n",
       "name         0\n",
       "dtype: int64"
      ]
     },
     "execution_count": 24,
     "metadata": {},
     "output_type": "execute_result"
    }
   ],
   "source": [
    "artist_df.isnull().sum()"
   ]
  },
  {
   "cell_type": "code",
   "execution_count": 25,
   "metadata": {},
   "outputs": [
    {
     "data": {
      "text/plain": [
       "customer_id        0\n",
       "first_name         0\n",
       "last_name          0\n",
       "company           49\n",
       "address            0\n",
       "city               0\n",
       "state             29\n",
       "country            0\n",
       "postal_code        4\n",
       "phone              1\n",
       "fax               47\n",
       "email              0\n",
       "support_rep_id     0\n",
       "dtype: int64"
      ]
     },
     "execution_count": 25,
     "metadata": {},
     "output_type": "execute_result"
    }
   ],
   "source": [
    "customer_df.isnull().sum()"
   ]
  },
  {
   "cell_type": "code",
   "execution_count": 28,
   "metadata": {},
   "outputs": [
    {
     "data": {
      "text/html": [
       "<div>\n",
       "<style scoped>\n",
       "    .dataframe tbody tr th:only-of-type {\n",
       "        vertical-align: middle;\n",
       "    }\n",
       "\n",
       "    .dataframe tbody tr th {\n",
       "        vertical-align: top;\n",
       "    }\n",
       "\n",
       "    .dataframe thead th {\n",
       "        text-align: right;\n",
       "    }\n",
       "</style>\n",
       "<table border=\"1\" class=\"dataframe\">\n",
       "  <thead>\n",
       "    <tr style=\"text-align: right;\">\n",
       "      <th></th>\n",
       "      <th>customer_id</th>\n",
       "      <th>first_name</th>\n",
       "      <th>last_name</th>\n",
       "      <th>company</th>\n",
       "      <th>address</th>\n",
       "      <th>city</th>\n",
       "      <th>state</th>\n",
       "      <th>country</th>\n",
       "      <th>postal_code</th>\n",
       "      <th>phone</th>\n",
       "      <th>fax</th>\n",
       "      <th>email</th>\n",
       "      <th>support_rep_id</th>\n",
       "    </tr>\n",
       "  </thead>\n",
       "  <tbody>\n",
       "    <tr>\n",
       "      <th>0</th>\n",
       "      <td>1</td>\n",
       "      <td>Luís</td>\n",
       "      <td>Gonçalves</td>\n",
       "      <td>Embraer - Empresa Brasileira de Aeronáutica S.A.</td>\n",
       "      <td>Av. Brigadeiro Faria Lima, 2170</td>\n",
       "      <td>São José dos Campos</td>\n",
       "      <td>SP</td>\n",
       "      <td>Brazil</td>\n",
       "      <td>12227-000</td>\n",
       "      <td>+55 (12) 3923-5555</td>\n",
       "      <td>+55 (12) 3923-5566</td>\n",
       "      <td>luisg@embraer.com.br</td>\n",
       "      <td>3</td>\n",
       "    </tr>\n",
       "    <tr>\n",
       "      <th>1</th>\n",
       "      <td>10</td>\n",
       "      <td>Eduardo</td>\n",
       "      <td>Martins</td>\n",
       "      <td>Woodstock Discos</td>\n",
       "      <td>Rua Dr. Falcão Filho, 155</td>\n",
       "      <td>São Paulo</td>\n",
       "      <td>SP</td>\n",
       "      <td>Brazil</td>\n",
       "      <td>01007-010</td>\n",
       "      <td>+55 (11) 3033-5446</td>\n",
       "      <td>+55 (11) 3033-4564</td>\n",
       "      <td>eduardo@woodstock.com.br</td>\n",
       "      <td>4</td>\n",
       "    </tr>\n",
       "    <tr>\n",
       "      <th>2</th>\n",
       "      <td>11</td>\n",
       "      <td>Alexandre</td>\n",
       "      <td>Rocha</td>\n",
       "      <td>Banco do Brasil S.A.</td>\n",
       "      <td>Av. Paulista, 2022</td>\n",
       "      <td>São Paulo</td>\n",
       "      <td>SP</td>\n",
       "      <td>Brazil</td>\n",
       "      <td>01310-200</td>\n",
       "      <td>+55 (11) 3055-3278</td>\n",
       "      <td>+55 (11) 3055-8131</td>\n",
       "      <td>alero@uol.com.br</td>\n",
       "      <td>5</td>\n",
       "    </tr>\n",
       "    <tr>\n",
       "      <th>3</th>\n",
       "      <td>12</td>\n",
       "      <td>Roberto</td>\n",
       "      <td>Almeida</td>\n",
       "      <td>Riotur</td>\n",
       "      <td>Praça Pio X, 119</td>\n",
       "      <td>Rio de Janeiro</td>\n",
       "      <td>RJ</td>\n",
       "      <td>Brazil</td>\n",
       "      <td>20040-020</td>\n",
       "      <td>+55 (21) 2271-7000</td>\n",
       "      <td>+55 (21) 2271-7070</td>\n",
       "      <td>roberto.almeida@riotur.gov.br</td>\n",
       "      <td>3</td>\n",
       "    </tr>\n",
       "    <tr>\n",
       "      <th>4</th>\n",
       "      <td>14</td>\n",
       "      <td>Mark</td>\n",
       "      <td>Philips</td>\n",
       "      <td>Telus</td>\n",
       "      <td>8210 111 ST NW</td>\n",
       "      <td>Edmonton</td>\n",
       "      <td>AB</td>\n",
       "      <td>Canada</td>\n",
       "      <td>T6G 2C7</td>\n",
       "      <td>+1 (780) 434-4554</td>\n",
       "      <td>+1 (780) 434-5565</td>\n",
       "      <td>mphilips12@shaw.ca</td>\n",
       "      <td>5</td>\n",
       "    </tr>\n",
       "    <tr>\n",
       "      <th>5</th>\n",
       "      <td>15</td>\n",
       "      <td>Jennifer</td>\n",
       "      <td>Peterson</td>\n",
       "      <td>Rogers Canada</td>\n",
       "      <td>700 W Pender Street</td>\n",
       "      <td>Vancouver</td>\n",
       "      <td>BC</td>\n",
       "      <td>Canada</td>\n",
       "      <td>V6C 1G8</td>\n",
       "      <td>+1 (604) 688-2255</td>\n",
       "      <td>+1 (604) 688-8756</td>\n",
       "      <td>jenniferp@rogers.ca</td>\n",
       "      <td>3</td>\n",
       "    </tr>\n",
       "    <tr>\n",
       "      <th>6</th>\n",
       "      <td>16</td>\n",
       "      <td>Frank</td>\n",
       "      <td>Harris</td>\n",
       "      <td>Google Inc.</td>\n",
       "      <td>1600 Amphitheatre Parkway</td>\n",
       "      <td>Mountain View</td>\n",
       "      <td>CA</td>\n",
       "      <td>USA</td>\n",
       "      <td>94043-1351</td>\n",
       "      <td>+1 (650) 253-0000</td>\n",
       "      <td>+1 (650) 253-0000</td>\n",
       "      <td>fharris@google.com</td>\n",
       "      <td>4</td>\n",
       "    </tr>\n",
       "    <tr>\n",
       "      <th>7</th>\n",
       "      <td>17</td>\n",
       "      <td>Jack</td>\n",
       "      <td>Smith</td>\n",
       "      <td>Microsoft Corporation</td>\n",
       "      <td>1 Microsoft Way</td>\n",
       "      <td>Redmond</td>\n",
       "      <td>WA</td>\n",
       "      <td>USA</td>\n",
       "      <td>98052-8300</td>\n",
       "      <td>+1 (425) 882-8080</td>\n",
       "      <td>+1 (425) 882-8081</td>\n",
       "      <td>jacksmith@microsoft.com</td>\n",
       "      <td>5</td>\n",
       "    </tr>\n",
       "    <tr>\n",
       "      <th>8</th>\n",
       "      <td>19</td>\n",
       "      <td>Tim</td>\n",
       "      <td>Goyer</td>\n",
       "      <td>Apple Inc.</td>\n",
       "      <td>1 Infinite Loop</td>\n",
       "      <td>Cupertino</td>\n",
       "      <td>CA</td>\n",
       "      <td>USA</td>\n",
       "      <td>95014</td>\n",
       "      <td>+1 (408) 996-1010</td>\n",
       "      <td>+1 (408) 996-1011</td>\n",
       "      <td>tgoyer@apple.com</td>\n",
       "      <td>3</td>\n",
       "    </tr>\n",
       "  </tbody>\n",
       "</table>\n",
       "</div>"
      ],
      "text/plain": [
       "   customer_id first_name  last_name  \\\n",
       "0            1       Luís  Gonçalves   \n",
       "1           10    Eduardo    Martins   \n",
       "2           11  Alexandre      Rocha   \n",
       "3           12    Roberto    Almeida   \n",
       "4           14       Mark    Philips   \n",
       "5           15   Jennifer   Peterson   \n",
       "6           16      Frank     Harris   \n",
       "7           17       Jack      Smith   \n",
       "8           19        Tim      Goyer   \n",
       "\n",
       "                                            company  \\\n",
       "0  Embraer - Empresa Brasileira de Aeronáutica S.A.   \n",
       "1                                  Woodstock Discos   \n",
       "2                              Banco do Brasil S.A.   \n",
       "3                                            Riotur   \n",
       "4                                             Telus   \n",
       "5                                     Rogers Canada   \n",
       "6                                       Google Inc.   \n",
       "7                             Microsoft Corporation   \n",
       "8                                        Apple Inc.   \n",
       "\n",
       "                           address                 city state country  \\\n",
       "0  Av. Brigadeiro Faria Lima, 2170  São José dos Campos    SP  Brazil   \n",
       "1        Rua Dr. Falcão Filho, 155            São Paulo    SP  Brazil   \n",
       "2               Av. Paulista, 2022            São Paulo    SP  Brazil   \n",
       "3                 Praça Pio X, 119       Rio de Janeiro    RJ  Brazil   \n",
       "4                   8210 111 ST NW             Edmonton    AB  Canada   \n",
       "5              700 W Pender Street            Vancouver    BC  Canada   \n",
       "6        1600 Amphitheatre Parkway        Mountain View    CA     USA   \n",
       "7                  1 Microsoft Way              Redmond    WA     USA   \n",
       "8                  1 Infinite Loop            Cupertino    CA     USA   \n",
       "\n",
       "  postal_code               phone                 fax  \\\n",
       "0   12227-000  +55 (12) 3923-5555  +55 (12) 3923-5566   \n",
       "1   01007-010  +55 (11) 3033-5446  +55 (11) 3033-4564   \n",
       "2   01310-200  +55 (11) 3055-3278  +55 (11) 3055-8131   \n",
       "3   20040-020  +55 (21) 2271-7000  +55 (21) 2271-7070   \n",
       "4     T6G 2C7   +1 (780) 434-4554   +1 (780) 434-5565   \n",
       "5     V6C 1G8   +1 (604) 688-2255   +1 (604) 688-8756   \n",
       "6  94043-1351   +1 (650) 253-0000   +1 (650) 253-0000   \n",
       "7  98052-8300   +1 (425) 882-8080   +1 (425) 882-8081   \n",
       "8       95014   +1 (408) 996-1010   +1 (408) 996-1011   \n",
       "\n",
       "                           email  support_rep_id  \n",
       "0           luisg@embraer.com.br               3  \n",
       "1       eduardo@woodstock.com.br               4  \n",
       "2               alero@uol.com.br               5  \n",
       "3  roberto.almeida@riotur.gov.br               3  \n",
       "4             mphilips12@shaw.ca               5  \n",
       "5            jenniferp@rogers.ca               3  \n",
       "6             fharris@google.com               4  \n",
       "7        jacksmith@microsoft.com               5  \n",
       "8               tgoyer@apple.com               3  "
      ]
     },
     "execution_count": 28,
     "metadata": {},
     "output_type": "execute_result"
    }
   ],
   "source": [
    "clean_customer_df=customer_df.dropna(how='any')\n",
    "clean_customer_dfcustomer_df=customer_df.reset_index(drop=True)\n",
    "clean_customer_df"
   ]
  },
  {
   "cell_type": "code",
   "execution_count": null,
   "metadata": {},
   "outputs": [],
   "source": []
  }
 ],
 "metadata": {
  "kernelspec": {
   "display_name": "base",
   "language": "python",
   "name": "python3"
  },
  "language_info": {
   "codemirror_mode": {
    "name": "ipython",
    "version": 3
   },
   "file_extension": ".py",
   "mimetype": "text/x-python",
   "name": "python",
   "nbconvert_exporter": "python",
   "pygments_lexer": "ipython3",
   "version": "3.9.13"
  }
 },
 "nbformat": 4,
 "nbformat_minor": 2
}
